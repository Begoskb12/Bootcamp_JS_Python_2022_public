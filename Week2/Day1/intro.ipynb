{
 "cells": [
  {
   "cell_type": "code",
   "execution_count": 9,
   "metadata": {},
   "outputs": [
    {
     "name": "stdout",
     "output_type": "stream",
     "text": [
      "123907\n",
      "shrutee balgobhind\n",
      "shrutee balgobhind\n",
      "shrutee balgobhind\n",
      "balgobhind shrutee\n"
     ]
    }
   ],
   "source": [
    "my_age = 28 + 123879\n",
    "print(my_age)\n",
    "\n",
    "first_name = \"shrutee\"\n",
    "last_name = \"balgobhind\"\n",
    "#types of ways to call variables inside string\n",
    "print(f\"{first_name} {last_name}\")\n",
    "print(\"%s %s\" % (first_name, last_name))\n",
    "print(\"{} {}\".format(first_name,last_name))\n",
    "print(\"{1} {0}\".format(first_name,last_name))"
   ]
  },
  {
   "cell_type": "code",
   "execution_count": null,
   "metadata": {},
   "outputs": [],
   "source": [
    "\n",
    "# Place a comment next to each variable. The comments will:\n",
    "\n",
    "#     Explain what each variable does\n",
    "#     Find out the type of each\n",
    "#     Format each variable into a print statement\n",
    "\n",
    "\n",
    "# #For example,  \n",
    "# #my_name = \"Frank\"  this line creates a name variable type: string \n",
    "# #print(\"My name is {}\".format(my_name))\n",
    "\n",
    "# cars = 100\n",
    "# space_in_a_car = 4.0\n",
    "# drivers = 30\n",
    "# passengers = 90\n",
    "# cars_not_driven = cars - drivers #= 70\n",
    "# cars_driven = drivers #= 30\n",
    "# carpool_capacity = cars_driven * space_in_a_car #= 120\n",
    "# average_passengers_per_car = passengers / cars_driven #= 3\n",
    "\n",
    "\n",
    "# print(\"There are\", cars, \"cars available.\")\n",
    "# print(\"There are only\", drivers, \"drivers available.\")\n",
    "# print(\"There will be\", cars_not_driven, \"empty cars today.\")\n",
    "# print(\"We can transport\", carpool_capacity, \"people today.\")\n",
    "# print(\"We have\", passengers, \"to carpool today.\")\n",
    "# print(\"We need to put about\", average_passengers_per_car,\"in each car.\")\n",
    "\n",
    "\n",
    "\n",
    "\n",
    "# print(\"There are\", cars, \"cars available.\")  --> There are 100 cars available.\n",
    "\n",
    "# print(\"There are only\", drivers, \"drivers available.\") --> There are only 30 drivers available.\n",
    "# print(\"There will be\", cars_not_driven, \"empty cars today.\")  --> There will be 70 empty cars today.\n",
    "# print(\"We can transport\", carpool_capacity, \"people today.\")  --> We can transport 120 people today.\n",
    "# print(\"We have\", passengers, \"to carpool today.\")  --> \n",
    "# print(\"We need to put about\", average_passengers_per_car,\"in each car.\")  --> We need to put about 3 in each car.\n"
   ]
  },
  {
   "cell_type": "code",
   "execution_count": 10,
   "metadata": {},
   "outputs": [
    {
     "name": "stdout",
     "output_type": "stream",
     "text": [
      "You are 23 years old\n"
     ]
    }
   ],
   "source": [
    "age = input(\"How old are you? \")\n",
    "print(\"You are {} years old\".format(age))"
   ]
  },
  {
   "cell_type": "code",
   "execution_count": 21,
   "metadata": {},
   "outputs": [
    {
     "name": "stdout",
     "output_type": "stream",
     "text": [
      "Fizz\n"
     ]
    }
   ],
   "source": [
    "# Ask the user for a number between 1 and 100\n",
    "\n",
    "# If the number is a multiple of three, print \"Fizz\"\n",
    "\n",
    "# If the number is a multiple of five, print \"Buzz\".\n",
    "\n",
    "# If the number is a multiple is a multiples of both three and five, print \"FizzBuzz\" instead.\n",
    "\n",
    "def numFunc():\n",
    "    input_num = int(input(\"Please enter a number between 1 and 100!\"))\n",
    "    multiple_of_3 = input_num % 3\n",
    "    multiple_of_5 = input_num % 5\n",
    "\n",
    "    if input_num < 1 or input_num > 100 :\n",
    "        print(\"Invalid number\")\n",
    "    else :\n",
    "        if multiple_of_3 == 0 and multiple_of_5 == 0 :\n",
    "            print(\"FizzBuzz\")\n",
    "        elif multiple_of_5 == 0 :\n",
    "            print (\"Buzz\")\n",
    "        elif multiple_of_3 == 0 :\n",
    "            print (\"Fizz\")\n",
    "\n",
    "\n",
    "numFunc ()"
   ]
  },
  {
   "cell_type": "code",
   "execution_count": null,
   "metadata": {},
   "outputs": [],
   "source": [
    "\n",
    "# Given this list:\n",
    "\n",
    "# list1 = [5, 10, 15, 20, 25, 50, 20]\n",
    "\n",
    "# find the value 20 in the list, and if it is present, replace it with 200. Only update the first occurrence of a value\n",
    "\n",
    "# Hint : Look at the index method\n",
    "\n",
    "\n",
    "\n",
    "\n",
    "\n"
   ]
  }
 ],
 "metadata": {
  "kernelspec": {
   "display_name": "Python 3.8.2 ('carrefour_env')",
   "language": "python",
   "name": "python3"
  },
  "language_info": {
   "codemirror_mode": {
    "name": "ipython",
    "version": 3
   },
   "file_extension": ".py",
   "mimetype": "text/x-python",
   "name": "python",
   "nbconvert_exporter": "python",
   "pygments_lexer": "ipython3",
   "version": "3.8.2"
  },
  "orig_nbformat": 4,
  "vscode": {
   "interpreter": {
    "hash": "03f7d8925d60ef5434c8ab2dbd5e39059769aa2c2cefa2c070b38d716c0d127f"
   }
  }
 },
 "nbformat": 4,
 "nbformat_minor": 2
}
